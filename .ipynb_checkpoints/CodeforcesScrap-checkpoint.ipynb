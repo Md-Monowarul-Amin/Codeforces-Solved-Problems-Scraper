{
 "cells": [
  {
   "cell_type": "code",
   "execution_count": 19,
   "id": "fa07a5e8-46d7-4124-8927-16375a9f86f4",
   "metadata": {},
   "outputs": [],
   "source": [
    "from bs4 import BeautifulSoup\n",
    "import requests"
   ]
  },
  {
   "cell_type": "code",
   "execution_count": 21,
   "id": "242505e8-4b44-40ee-a73d-47c42946272d",
   "metadata": {},
   "outputs": [
    {
     "name": "stdout",
     "output_type": "stream",
     "text": [
      "Requirement already satisfied: html5lib in /home/md-monowarul-amin/.selenium_env/lib/python3.12/site-packages (1.1)\n",
      "Requirement already satisfied: six>=1.9 in /home/md-monowarul-amin/.selenium_env/lib/python3.12/site-packages (from html5lib) (1.17.0)\n",
      "Requirement already satisfied: webencodings in /home/md-monowarul-amin/.selenium_env/lib/python3.12/site-packages (from html5lib) (0.5.1)\n"
     ]
    }
   ],
   "source": [
    "!pip install html5lib"
   ]
  },
  {
   "cell_type": "code",
   "execution_count": 23,
   "id": "c86b435d-7563-454d-aaa4-62098d3e0994",
   "metadata": {},
   "outputs": [],
   "source": [
    "url = \"https://codeforces.com/submissions/MONOWARUL_AMIN/\"\n",
    "\n",
    "page = requests.get(url)\n",
    "soup = BeautifulSoup(page.text, \"html\")"
   ]
  },
  {
   "cell_type": "code",
   "execution_count": null,
   "id": "8ea5075c-a4f8-4146-9c4e-5644b8b45d00",
   "metadata": {},
   "outputs": [],
   "source": [
    "print(soup)"
   ]
  }
 ],
 "metadata": {
  "kernelspec": {
   "display_name": "Python 3 (ipykernel)",
   "language": "python",
   "name": "python3"
  },
  "language_info": {
   "codemirror_mode": {
    "name": "ipython",
    "version": 3
   },
   "file_extension": ".py",
   "mimetype": "text/x-python",
   "name": "python",
   "nbconvert_exporter": "python",
   "pygments_lexer": "ipython3",
   "version": "3.12.3"
  }
 },
 "nbformat": 4,
 "nbformat_minor": 5
}
